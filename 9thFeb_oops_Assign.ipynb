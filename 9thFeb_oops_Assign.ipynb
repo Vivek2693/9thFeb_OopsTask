{
 "cells": [
  {
   "cell_type": "markdown",
   "id": "5f209550-7360-41cd-a0e9-841c96d2ee46",
   "metadata": {},
   "source": [
    "Q1, Create a vehicle class with an init method having instance variables as name_of_vehicle, max_speed\n",
    "and average_of_vehicle."
   ]
  },
  {
   "cell_type": "code",
   "execution_count": 1,
   "id": "ed089528-b7fd-4690-b0e4-eceb34e83c83",
   "metadata": {},
   "outputs": [],
   "source": [
    "class Vehicle:\n",
    "    def __init__(self, name_of_vehicle, max_speed, average_speed):\n",
    "        self.name_of_vehicle = name_of_vehicle\n",
    "        self.max_speed = max_speed\n",
    "        self.average_speed = average_speed\n"
   ]
  },
  {
   "cell_type": "code",
   "execution_count": 2,
   "id": "d209652f-9325-4c12-ae1a-7aad8ba4c70d",
   "metadata": {},
   "outputs": [
    {
     "name": "stdout",
     "output_type": "stream",
     "text": [
      "Car\n",
      "200\n",
      "100\n",
      "Bike\n",
      "150\n",
      "80\n"
     ]
    }
   ],
   "source": [
    "car = Vehicle(\"Car\", 200, 100)\n",
    "print(car.name_of_vehicle)  # Output: Car\n",
    "print(car.max_speed)  # Output: 200\n",
    "print(car.average_speed)  # Output: 100\n",
    "\n",
    "bike = Vehicle(\"Bike\", 150, 80)\n",
    "print(bike.name_of_vehicle)  # Output: Bike\n",
    "print(bike.max_speed)  # Output: 150\n",
    "print(bike.average_speed)  # Output: 80\n"
   ]
  },
  {
   "cell_type": "markdown",
   "id": "60c7a4b6-d082-450b-827f-f6ecaf3c046a",
   "metadata": {},
   "source": [
    "Q2. Create a child class car from the vehicle class created in Que 1, which will inherit the vehicle class.\n",
    "Create a method named seating_capacity which takes capacity as an argument and returns the name of\n",
    "the vehicle and its seating capacity."
   ]
  },
  {
   "cell_type": "code",
   "execution_count": 3,
   "id": "7dbadd1f-2b4a-4310-9418-69f09d474a9c",
   "metadata": {},
   "outputs": [
    {
     "name": "stdout",
     "output_type": "stream",
     "text": [
      "Sedan\n",
      "200\n",
      "100\n",
      "Sedan - Seating Capacity: 5\n"
     ]
    }
   ],
   "source": [
    "class Car(Vehicle):\n",
    "    def seating_capacity(self, capacity):\n",
    "        return f\"{self.name_of_vehicle} - Seating Capacity: {capacity}\"\n",
    "\n",
    "# Creating a Car object\n",
    "car = Car(\"Sedan\", 200, 100)\n",
    "\n",
    "# Accessing the instance variables of the Car object\n",
    "print(car.name_of_vehicle)  # Output: Sedan\n",
    "print(car.max_speed)  # Output: 200\n",
    "print(car.average_speed)  # Output: 100\n",
    "\n",
    "# Calling the seating_capacity method of the Car object\n",
    "capacity = 5\n",
    "result = car.seating_capacity(capacity)\n",
    "print(result)  # Output: Sedan - Seating Capacity: 5\n"
   ]
  },
  {
   "cell_type": "markdown",
   "id": "90a2af94-d1da-46d1-9a61-ef4a8bec575e",
   "metadata": {},
   "source": [
    "Q3. What is multiple inheritance? Write a python code to demonstrate multiple inheritance."
   ]
  },
  {
   "cell_type": "markdown",
   "id": "89521a9a-3eb4-4620-9812-1aac3cf9ede4",
   "metadata": {},
   "source": [
    "Multiple inheritance is a feature in object-oriented programming languages where a class can inherit attributes and behaviors from multiple parent classes. In multiple inheritance, a class can inherit from more than one base class, allowing it to combine the characteristics of those classes into a single derived class."
   ]
  },
  {
   "cell_type": "code",
   "execution_count": 4,
   "id": "50c95ac4-f341-4549-adb4-89369597877c",
   "metadata": {},
   "outputs": [
    {
     "name": "stdout",
     "output_type": "stream",
     "text": [
      "BaseClass1 method1\n",
      "BaseClass1 common_method\n",
      "BaseClass2 method2\n",
      "BaseClass1 common_method\n",
      "DerivedClass derived_method\n"
     ]
    }
   ],
   "source": [
    "class BaseClass1:\n",
    "    def method1(self):\n",
    "        print(\"BaseClass1 method1\")\n",
    "\n",
    "    def common_method(self):\n",
    "        print(\"BaseClass1 common_method\")\n",
    "\n",
    "\n",
    "class BaseClass2:\n",
    "    def method2(self):\n",
    "        print(\"BaseClass2 method2\")\n",
    "\n",
    "    def common_method(self):\n",
    "        print(\"BaseClass2 common_method\")\n",
    "\n",
    "\n",
    "class DerivedClass(BaseClass1, BaseClass2):\n",
    "    def derived_method(self):\n",
    "        print(\"DerivedClass derived_method\")\n",
    "\n",
    "\n",
    "# Creating an object of the DerivedClass\n",
    "obj = DerivedClass()\n",
    "\n",
    "# Calling methods from BaseClass1\n",
    "obj.method1()  # Output: BaseClass1 method1\n",
    "obj.common_method()  # Output: BaseClass1 common_method\n",
    "\n",
    "# Calling methods from BaseClass2\n",
    "obj.method2()  # Output: BaseClass2 method2\n",
    "obj.common_method()  # Output: BaseClass2 common_method\n",
    "\n",
    "# Calling method from DerivedClass\n",
    "obj.derived_method()  # Output: DerivedClass derived_method\n"
   ]
  },
  {
   "cell_type": "markdown",
   "id": "1c805927-8304-4804-a076-40993c3eb2c3",
   "metadata": {},
   "source": [
    "Q4. What are getter and setter in python? Create a class and create a getter and a setter method in this\n",
    "class."
   ]
  },
  {
   "cell_type": "markdown",
   "id": "51b1fc22-711d-49a3-b892-4a18fe04e862",
   "metadata": {},
   "source": [
    "In Python, getters and setters are methods used to access and modify the values of class attributes. They provide a way to encapsulate the access and modification of attribute values and can be used to implement data encapsulation and control attribute access.\n",
    "\n",
    "A getter method, also known as an accessor method, is used to retrieve the value of an attribute. It allows controlled access to the attribute by providing a read-only interface. Getter methods typically have a naming convention like get_attribute().\n",
    "\n",
    "A setter method, also known as a mutator method, is used to modify the value of an attribute. It allows controlled modification of the attribute by providing a write-only interface. Setter methods typically have a naming convention like set_attribute(value)."
   ]
  },
  {
   "cell_type": "code",
   "execution_count": null,
   "id": "91cb2f23-9318-418c-a0e5-8851137f1549",
   "metadata": {},
   "outputs": [],
   "source": []
  },
  {
   "cell_type": "code",
   "execution_count": null,
   "id": "23b3fb9e-cfe3-4782-9724-7900e9834113",
   "metadata": {},
   "outputs": [],
   "source": []
  },
  {
   "cell_type": "code",
   "execution_count": null,
   "id": "00818e7f-b574-4ed6-a876-94ba8a67112f",
   "metadata": {},
   "outputs": [],
   "source": []
  }
 ],
 "metadata": {
  "kernelspec": {
   "display_name": "Python 3 (ipykernel)",
   "language": "python",
   "name": "python3"
  },
  "language_info": {
   "codemirror_mode": {
    "name": "ipython",
    "version": 3
   },
   "file_extension": ".py",
   "mimetype": "text/x-python",
   "name": "python",
   "nbconvert_exporter": "python",
   "pygments_lexer": "ipython3",
   "version": "3.10.8"
  }
 },
 "nbformat": 4,
 "nbformat_minor": 5
}
